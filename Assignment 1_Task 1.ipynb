{
 "cells": [
  {
   "cell_type": "markdown",
   "id": "05735ad8",
   "metadata": {},
   "source": [
    "# ASSSIGNMENT 1 - Task 1\n",
    "\n",
    "## Name -  Gavin Furtado  Student number- 21200745 \n",
    "\n",
    "## API used - The World Bank - Cliamte Data API\n",
    "### API link - https://datahelpdesk.worldbank.org/knowledgebase/articles/902061-climate-data-api\n",
    "\n",
    "This API provides the temperature and rainfall over a given period of time, this data is based on 15 different climate change models. For the purpose of this assignment, the model of Bergen Climate Model provided by Bjerknes Center for Climate Research,(BCCR-BCM2.0) was selected.\n",
    "\n",
    "Since these values are modeled estimates it is not required to fetch data repeatedly.\n",
    " \n",
    "The temperature and rainfall values can be obtained for different countries by chaning the ISO3 code in the url. The API also provides data of basins, however the link does not work, so only countries are used. The API provides monthly average and annual average of precipitation(in millimeters) and temperature(in celsius)."
   ]
  },
  {
   "cell_type": "markdown",
   "id": "2117bade",
   "metadata": {},
   "source": [
    "### Data collection\n",
    "\n",
    "First we import the necessary libraries "
   ]
  },
  {
   "cell_type": "code",
   "execution_count": 30,
   "id": "edc8b1d2",
   "metadata": {},
   "outputs": [],
   "source": [
    "import requests\n",
    "import pandas as pd"
   ]
  },
  {
   "cell_type": "markdown",
   "id": "686033eb",
   "metadata": {},
   "source": [
    "The World bank climate data is an open API, which means we do not need to register for an API key to access the data.\n",
    "\n",
    "The API call stucture is \"API_prefix/type_of_data/model/variable/startyear/endyear/counrty\"\n",
    "\n",
    "An example of the API link is shown in the code cell below."
   ]
  },
  {
   "cell_type": "code",
   "execution_count": 31,
   "id": "5e33acc2",
   "metadata": {},
   "outputs": [
    {
     "name": "stdout",
     "output_type": "stream",
     "text": [
      "<Response [200]>\n"
     ]
    }
   ],
   "source": [
    "link = requests.get('http://climatedataapi.worldbank.org/climateweb/rest/v1/country/mavg/bccr_bcm2_0/tas/1980/1999/FRA')\n",
    "print(link)"
   ]
  },
  {
   "cell_type": "markdown",
   "id": "fbd2270a",
   "metadata": {},
   "source": [
    "Assigning the components of the API call URL\n"
   ]
  },
  {
   "cell_type": "code",
   "execution_count": 32,
   "id": "e24af26c",
   "metadata": {},
   "outputs": [],
   "source": [
    "prefix = 'http://climatedataapi.worldbank.org/climateweb/rest/v1/country/'\n",
    "avg_type = ['mavg/','annualavg/']\n",
    "model = 'bccr_bcm2_0/'\n",
    "parameter = ['tas/','pr/']\n",
    "fromYear = ['1980/','1960/']\n",
    "toYear = ['1999/','1979/']\n",
    "countries = ['FRA','IND','USA','AUS']"
   ]
  },
  {
   "cell_type": "markdown",
   "id": "570a7cca",
   "metadata": {},
   "source": [
    "The data for specific countries has to be collected, this is done by sending a from requests.get() and then storing the data on local device in JSON format. The reponse received needs to br check because sometimes the URL might be wrong or not exist.\n",
    "\n",
    "Below the temperature and rainfall between 1980 to 1999 has been collected."
   ]
  },
  {
   "cell_type": "code",
   "execution_count": 33,
   "id": "dfd6f509",
   "metadata": {},
   "outputs": [
    {
     "name": "stdout",
     "output_type": "stream",
     "text": [
      "fecthing data from http://climatedataapi.worldbank.org/climateweb/rest/v1/country/mavg/bccr_bcm2_0/tas/1980/1999/FRA\n",
      "The request was successful <Response [200]>\n",
      "FRA monthly temperature stored on local device\n",
      "fecthing data from http://climatedataapi.worldbank.org/climateweb/rest/v1/country/mavg/bccr_bcm2_0/tas/1980/1999/IND\n",
      "The request was successful <Response [200]>\n",
      "IND monthly temperature stored on local device\n",
      "fecthing data from http://climatedataapi.worldbank.org/climateweb/rest/v1/country/mavg/bccr_bcm2_0/tas/1980/1999/USA\n",
      "The request was successful <Response [200]>\n",
      "USA monthly temperature stored on local device\n",
      "fecthing data from http://climatedataapi.worldbank.org/climateweb/rest/v1/country/mavg/bccr_bcm2_0/tas/1980/1999/AUS\n",
      "The request was successful <Response [200]>\n",
      "AUS monthly temperature stored on local device\n",
      "fetching data from http://climatedataapi.worldbank.org/climateweb/rest/v1/country/mavg/bccr_bcm2_0/pr/1980/1999/FRA\n",
      "The request was successful <Response [200]>\n",
      "FRA monthly rainfall stored on local device\n",
      "fetching data from http://climatedataapi.worldbank.org/climateweb/rest/v1/country/mavg/bccr_bcm2_0/pr/1980/1999/IND\n",
      "The request was successful <Response [200]>\n",
      "IND monthly rainfall stored on local device\n",
      "fetching data from http://climatedataapi.worldbank.org/climateweb/rest/v1/country/mavg/bccr_bcm2_0/pr/1980/1999/USA\n",
      "The request was successful <Response [200]>\n",
      "USA monthly rainfall stored on local device\n",
      "fetching data from http://climatedataapi.worldbank.org/climateweb/rest/v1/country/mavg/bccr_bcm2_0/pr/1980/1999/AUS\n",
      "The request was successful <Response [200]>\n",
      "AUS monthly rainfall stored on local device\n"
     ]
    }
   ],
   "source": [
    "monthly_temperature = {}\n",
    "for country in countries:\n",
    "        url = prefix + avg_type[0] + model + parameter[0] + fromYear[0] + toYear[0] + country\n",
    "        print(f'fecthing data from {url}')\n",
    "        response = requests.get(url)\n",
    "        if response.status_code == 200:\n",
    "            print(f'The request was successful {response}')\n",
    "        elif response.status_code == 404:\n",
    "            print(f'Link does not exist {response}')\n",
    "        else:\n",
    "            print(f'Something is wrong')\n",
    "        data_json= response.json()\n",
    "        df = pd.DataFrame(data_json)\n",
    "        df.to_json(f'D:\\\\Gavin\\\\Academics\\\\UCD\\\\Ds in python\\\\Assignment 1\\\\1980_1999\\\\{country} monthly temperature')\n",
    "        print(f'{country} monthly temperature stored on local device')\n",
    "        monthly_temperature.update({country:url})\n",
    "#print(monthly_temperature)\n",
    "\n",
    "monthly_rainfall = {}\n",
    "for country in countries:\n",
    "        url = prefix + avg_type[0] + model + parameter[1] + fromYear[0] + toYear[0] + country\n",
    "        print(f'fetching data from {url}')\n",
    "        response = requests.get(url)\n",
    "        if response.status_code == 200:\n",
    "            print(f'The request was successful {response}')\n",
    "        elif response.status_code == 404:\n",
    "            print(f'Link does not exist {response}')\n",
    "        else:\n",
    "            print(f'Something is wrong')\n",
    "        data_json = response.json()\n",
    "        df = pd.DataFrame(data_json)\n",
    "        df.to_json(f'D:\\\\Gavin\\\\Academics\\\\UCD\\\\Ds in python\\\\Assignment 1\\\\1980_1999\\\\{country} monthly rainfall')\n",
    "        print(f'{country} monthly rainfall stored on local device')\n",
    "        monthly_rainfall.update({country:url})\n",
    "#print(rainfall)\n",
    "\n"
   ]
  },
  {
   "cell_type": "markdown",
   "id": "64994e87",
   "metadata": {},
   "source": [
    "The data for time period 1960 to 1979 is collected."
   ]
  },
  {
   "cell_type": "code",
   "execution_count": 34,
   "id": "34cc8a6a",
   "metadata": {},
   "outputs": [
    {
     "name": "stdout",
     "output_type": "stream",
     "text": [
      "fecthing data from http://climatedataapi.worldbank.org/climateweb/rest/v1/country/mavg/bccr_bcm2_0/tas/1960/1979/FRA\n",
      "The request was successful <Response [200]>\n",
      "FRA monthly temperature stored on local device\n",
      "fecthing data from http://climatedataapi.worldbank.org/climateweb/rest/v1/country/mavg/bccr_bcm2_0/tas/1960/1979/IND\n",
      "The request was successful <Response [200]>\n",
      "IND monthly temperature stored on local device\n",
      "fecthing data from http://climatedataapi.worldbank.org/climateweb/rest/v1/country/mavg/bccr_bcm2_0/tas/1960/1979/USA\n",
      "The request was successful <Response [200]>\n",
      "USA monthly temperature stored on local device\n",
      "fecthing data from http://climatedataapi.worldbank.org/climateweb/rest/v1/country/mavg/bccr_bcm2_0/tas/1960/1979/AUS\n",
      "The request was successful <Response [200]>\n",
      "AUS monthly temperature stored on local device\n",
      "fetching data from http://climatedataapi.worldbank.org/climateweb/rest/v1/country/mavg/bccr_bcm2_0/pr/1960/1979/FRA\n",
      "The request was successful <Response [200]>\n",
      "FRA monthly rainfall stored on local device\n",
      "fetching data from http://climatedataapi.worldbank.org/climateweb/rest/v1/country/mavg/bccr_bcm2_0/pr/1960/1979/IND\n",
      "The request was successful <Response [200]>\n",
      "IND monthly rainfall stored on local device\n",
      "fetching data from http://climatedataapi.worldbank.org/climateweb/rest/v1/country/mavg/bccr_bcm2_0/pr/1960/1979/USA\n",
      "The request was successful <Response [200]>\n",
      "USA monthly rainfall stored on local device\n",
      "fetching data from http://climatedataapi.worldbank.org/climateweb/rest/v1/country/mavg/bccr_bcm2_0/pr/1960/1979/AUS\n",
      "The request was successful <Response [200]>\n",
      "AUS monthly rainfall stored on local device\n"
     ]
    }
   ],
   "source": [
    "monthly_temperature = {}\n",
    "for country in countries:\n",
    "        url = prefix + avg_type[0] + model + parameter[0] + fromYear[1] + toYear[1] + country\n",
    "        print(f'fecthing data from {url}')\n",
    "        response = requests.get(url)\n",
    "        if response.status_code == 200:\n",
    "            print(f'The request was successful {response}')\n",
    "        elif response.status_code == 404:\n",
    "            print(f'Link does not exist {response}')\n",
    "        else:\n",
    "            print(f'Something is wrong')\n",
    "        data_json= response.json()\n",
    "        df = pd.DataFrame(data_json)\n",
    "        df.to_json(f'D:\\\\Gavin\\\\Academics\\\\UCD\\\\Ds in python\\\\Assignment 1\\\\1960_1979\\\\{country} monthly temperature')\n",
    "        print(f'{country} monthly temperature stored on local device')\n",
    "        monthly_temperature.update({country:url})\n",
    "#print(monthly_temperature)\n",
    "\n",
    "monthly_rainfall = {}\n",
    "for country in countries:\n",
    "        url = prefix + avg_type[0] + model + parameter[1] + fromYear[1] + toYear[1] + country\n",
    "        print(f'fetching data from {url}')\n",
    "        response = requests.get(url)\n",
    "        if response.status_code == 200:\n",
    "            print(f'The request was successful {response}')\n",
    "        elif response.status_code == 404:\n",
    "            print(f'Link does not exist {response}')\n",
    "        else:\n",
    "            print(f'Something is wrong')\n",
    "        data_json = response.json()\n",
    "        df = pd.DataFrame(data_json)\n",
    "        df.to_json(f'D:\\\\Gavin\\\\Academics\\\\UCD\\\\Ds in python\\\\Assignment 1\\\\1960_1979\\\\{country} monthly rainfall')\n",
    "        print(f'{country} monthly rainfall stored on local device')\n",
    "        monthly_rainfall.update({country:url})\n",
    "#print(rainfall)"
   ]
  }
 ],
 "metadata": {
  "kernelspec": {
   "display_name": "Python 3",
   "language": "python",
   "name": "python3"
  },
  "language_info": {
   "codemirror_mode": {
    "name": "ipython",
    "version": 3
   },
   "file_extension": ".py",
   "mimetype": "text/x-python",
   "name": "python",
   "nbconvert_exporter": "python",
   "pygments_lexer": "ipython3",
   "version": "3.8.8"
  }
 },
 "nbformat": 4,
 "nbformat_minor": 5
}
